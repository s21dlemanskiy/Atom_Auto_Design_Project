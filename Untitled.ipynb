{
 "cells": [
  {
   "cell_type": "code",
   "execution_count": 83,
   "id": "f8b47589",
   "metadata": {},
   "outputs": [],
   "source": [
    "import pandas as pd\n",
    "from bs4 import BeautifulSoup\n",
    "from enum import Enum\n",
    "from typing import List, Iterable, Optional, Dict\n",
    "import demoji\n",
    "# from transliterate import translit"
   ]
  },
  {
   "cell_type": "code",
   "execution_count": null,
   "id": "8d0695fc",
   "metadata": {},
   "outputs": [],
   "source": []
  },
  {
   "cell_type": "code",
   "execution_count": 60,
   "id": "0a4254ca",
   "metadata": {},
   "outputs": [],
   "source": [
    "df = pd.read_csv(\"data.csv\")"
   ]
  },
  {
   "cell_type": "code",
   "execution_count": 61,
   "id": "d0f2642b",
   "metadata": {
    "scrolled": false
   },
   "outputs": [
    {
     "data": {
      "text/plain": [
       "0      {'Внешний вид': '5,0', 'Комфорт': '4,6', 'Безо...\n",
       "1      {'Внешний вид': '5,0', 'Комфорт': '4,6', 'Безо...\n",
       "2      {'Внешний вид': '5,0', 'Комфорт': '4,6', 'Безо...\n",
       "3      {'Внешний вид': '5,0', 'Комфорт': '4,6', 'Безо...\n",
       "4      {'Внешний вид': '5,0', 'Комфорт': '4,6', 'Безо...\n",
       "                             ...                        \n",
       "480    {'Внешний вид': '5', 'Комфорт': '4,5', 'Безопа...\n",
       "481    {'Внешний вид': '5', 'Комфорт': '4,5', 'Безопа...\n",
       "482    {'Внешний вид': '5', 'Комфорт': '4,5', 'Безопа...\n",
       "483    {'Внешний вид': '5', 'Комфорт': '4,5', 'Безопа...\n",
       "484    {'Внешний вид': '5', 'Комфорт': '4,5', 'Безопа...\n",
       "Name: short_structured_description, Length: 485, dtype: object"
      ]
     },
     "execution_count": 61,
     "metadata": {},
     "output_type": "execute_result"
    }
   ],
   "source": [
    "class ExtraData(Enum):\n",
    "    plus = \"Плюсы, отмеченные автором\"\n",
    "    minus = \"Минусы, отмеченные автором\"\n",
    "    autor_review = \"оценка автора\"\n",
    "    all_review = \"оценка средневзвешенная по всем ревью\"\n",
    "\n",
    "def parce_short_structured_description(data, get: ExtraData=ExtraData.plus):\n",
    "    result = {ExtraData.plus: None, ExtraData.minus: None, ExtraData.autor_review: {}, ExtraData.all_review: {}}\n",
    "    soup = BeautifulSoup(data, \"html.parser\")\n",
    "    features = soup.find_all('div', class_=\"ReviewProsAndCons__features\")[1]\n",
    "    for feature in features.find_all('div', class_=\"ReviewProsAndCons__summary__text\"):\n",
    "        if feature.find('svg', class_=\"ReviewProsAndCons__summary__icon_plus\"):\n",
    "            result[ExtraData.plus] = feature.text\n",
    "            continue\n",
    "        if feature.find('svg', class_=\"ReviewProsAndCons__summary__icon_minus\"):\n",
    "            result[ExtraData.minus] = feature.text\n",
    "            continue\n",
    "    \n",
    "    autor_review = soup.find_all(\"div\", class_=\"ReviewProsAndCons__summary__content\")[0]\n",
    "    autor_review = autor_review.find_all('li', class_=\"ReviewProsAndCons__summary__item\")\n",
    "    for mark in autor_review:\n",
    "        rewiew_category = mark.find(\"span\", class_=\"ReviewProsAndCons__summary__name\").text\n",
    "        rewier_mark = mark.find(\"span\", class_=\"ReviewProsAndCons__summary__value\").text\n",
    "        result[ExtraData.autor_review][rewiew_category] = rewier_mark\n",
    "\n",
    "    all_review = soup.find_all(\"div\", class_=\"ReviewProsAndCons__summary__content\")[1]\n",
    "    all_review = all_review.find_all('li', class_=\"ReviewProsAndCons__summary__item\")\n",
    "    for mark in all_review:\n",
    "        rewiew_category = mark.find(\"span\", class_=\"ReviewProsAndCons__summary__name\").text\n",
    "        rewier_mark = mark.find(\"span\", class_=\"ReviewProsAndCons__summary__value\").text\n",
    "        result[ExtraData.all_review][rewiew_category] = rewier_mark\n",
    "    return result[get]\n",
    "\n",
    "\n",
    "df[\"short_structured_description\"].apply(parce_short_structured_description, get=ExtraData.all_review)"
   ]
  },
  {
   "cell_type": "code",
   "execution_count": 62,
   "id": "078aa46e",
   "metadata": {},
   "outputs": [],
   "source": [
    "def avg(x: List[float]) -> Optional[float]:\n",
    "    x = list(x)\n",
    "    if len(x) == 0:\n",
    "        return None\n",
    "    return round(sum(x) / len(x), 2) \n",
    "\n",
    "def to_int(x: Iterable[str]) -> List[float]:\n",
    "    result = []\n",
    "    for i in x:\n",
    "        try:\n",
    "            if \",\" in i:\n",
    "                i = i.replace(\",\", '.')\n",
    "            i = float(i)\n",
    "        except ValueError as e:\n",
    "            continue\n",
    "        result += [i]\n",
    "    return result \n",
    "\n",
    "df[ExtraData.plus.value] = df[\"short_structured_description\"].apply(parce_short_structured_description, get=ExtraData.plus)\n",
    "df[ExtraData.minus.value] = df[\"short_structured_description\"].apply(parce_short_structured_description, get=ExtraData.minus)\n",
    "df[ExtraData.autor_review.value] = df[\"short_structured_description\"].apply(parce_short_structured_description, get=ExtraData.autor_review)\n",
    "df[ExtraData.all_review.value] = df[\"short_structured_description\"].apply(parce_short_structured_description, get=ExtraData.all_review)\n",
    "df[\"срелняя по всем категориям оценивания оценка автора\"] = df[\"short_structured_description\"].apply(parce_short_structured_description, get=ExtraData.autor_review).apply(lambda x: avg(to_int(x.values())))\n",
    "df[\"срелняя по всем категориям оценивания оценка средневзвешенная по всем ревью\"] = df[\"short_structured_description\"].apply(parce_short_structured_description, get=ExtraData.all_review).apply(lambda x: avg(to_int(x.values())))"
   ]
  },
  {
   "cell_type": "code",
   "execution_count": 63,
   "id": "7bebf4cd",
   "metadata": {},
   "outputs": [
    {
     "data": {
      "text/plain": [
       "0                  Алексей\n",
       "1                  Дмитрий\n",
       "2      Коричневый грузовик\n",
       "3            KobayashiMaru\n",
       "4                  Дмитрий\n",
       "              ...         \n",
       "480                 Николь\n",
       "481        Александр Шошин\n",
       "482                Анзорик\n",
       "483     Василевский Никита\n",
       "484                  Ольга\n",
       "Name: user_info, Length: 485, dtype: object"
      ]
     },
     "execution_count": 63,
     "metadata": {},
     "output_type": "execute_result"
    }
   ],
   "source": [
    "class UserInfo(Enum):\n",
    "    user_info_year = \"год, когда ревьюер создал аккаунт\"\n",
    "    nick = \"ник\\имя ревьюера\"\n",
    "    link = \"ссылка на страницу пользователя\"\n",
    "\n",
    "def parce_user_info(data, get: UserInfo=UserInfo):\n",
    "    result = {UserInfo.user_info_year: None, UserInfo.nick: None, UserInfo.link: None}\n",
    "    soup = BeautifulSoup(data, \"html.parser\")\n",
    "    result[UserInfo.user_info_year] = soup.find(\"div\", class_=\"Review__userInfoYear\").text\n",
    "    try:\n",
    "        user_info = soup.find(\"a\", class_=\"Link\")\n",
    "        result[UserInfo.nick] = user_info.text\n",
    "        result[UserInfo.link] = user_info.get(\"href\")\n",
    "    except AttributeError as e:\n",
    "        pass\n",
    "    return result[get]\n",
    "\n",
    "\n",
    "df[\"user_info\"].apply(parce_user_info, get=UserInfo.nick)"
   ]
  },
  {
   "cell_type": "code",
   "execution_count": 64,
   "id": "5b3ff42e",
   "metadata": {},
   "outputs": [],
   "source": [
    "df[UserInfo.user_info_year.value] = df[\"user_info\"].apply(parce_user_info, get=UserInfo.user_info_year)\n",
    "df[UserInfo.nick.value] = df[\"user_info\"].apply(parce_user_info, get=UserInfo.nick)\n",
    "df[UserInfo.link.value] = df[\"user_info\"].apply(parce_user_info, get=UserInfo.link)"
   ]
  },
  {
   "cell_type": "code",
   "execution_count": 65,
   "id": "25080678",
   "metadata": {},
   "outputs": [],
   "source": [
    "df.drop(columns=['short_structured_description', 'user_info'], inplace = True)\n",
    "df.rename(columns={\"Unnamed: 0\":\"№\"}, inplace=True)"
   ]
  },
  {
   "cell_type": "code",
   "execution_count": 75,
   "id": "6899cd5b",
   "metadata": {},
   "outputs": [],
   "source": [
    "all_emijis = demoji.findall(\" \".join(df[\"main_text\"]))"
   ]
  },
  {
   "cell_type": "code",
   "execution_count": 76,
   "id": "8430ae01",
   "metadata": {},
   "outputs": [
    {
     "data": {
      "text/plain": [
       "{'🚫': 'prohibited',\n",
       " '🚀': 'rocket',\n",
       " '🤣': 'rolling on the floor laughing',\n",
       " '👎': 'thumbs down',\n",
       " '😏': 'smirking face',\n",
       " '💯': 'hundred points',\n",
       " '😀': 'grinning face',\n",
       " '💣': 'bomb',\n",
       " '👍': 'thumbs up',\n",
       " '✌️': 'victory hand',\n",
       " '☺️': 'smiling face',\n",
       " '😂': 'face with tears of joy',\n",
       " '🍋': 'lemon',\n",
       " '😭': 'loudly crying face',\n",
       " '😄': 'grinning face with smiling eyes',\n",
       " '🔥': 'fire',\n",
       " '😎': 'smiling face with sunglasses',\n",
       " '😆': 'grinning squinting face',\n",
       " '😜': 'winking face with tongue',\n",
       " '😁': 'beaming face with smiling eyes',\n",
       " '😳': 'flushed face',\n",
       " '👏': 'clapping hands',\n",
       " '😉': 'winking face',\n",
       " '👍🏻': 'thumbs up: light skin tone',\n",
       " '🤭': 'face with hand over mouth',\n",
       " '😢': 'crying face',\n",
       " '🚕': 'taxi',\n",
       " '👌': 'OK hand',\n",
       " '😇': 'smiling face with halo',\n",
       " '🤦🏽\\u200d♀️': 'woman facepalming: medium skin tone',\n",
       " '😅': 'grinning face with sweat',\n",
       " '🤔': 'thinking face'}"
      ]
     },
     "execution_count": 76,
     "metadata": {},
     "output_type": "execute_result"
    }
   ],
   "source": [
    "all_emijis"
   ]
  },
  {
   "cell_type": "code",
   "execution_count": 82,
   "id": "c64e35bb",
   "metadata": {},
   "outputs": [],
   "source": [
    "emijis_change = {\n",
    " '🚫': \"запрещенно\",\n",
    " '🚀': \"ракета\",\n",
    " '🤣': \"смешно до слез\",\n",
    " '👎': \"отстой\",\n",
    " '😏': \"ухмылка\",\n",
    " '💯': \"сто баллов\",\n",
    " '😀': \"ухмылка\",\n",
    " '💣': \"бомба\",\n",
    " '👍': \"круто\",\n",
    " '✌️': \"клас\",\n",
    " '☺️': \"улыбка\",\n",
    " '😂': \"радостно\",\n",
    " '🍋': \"лемон\",\n",
    " '😭': \"грустно\",\n",
    " '😄': \"смешно\",\n",
    " '🔥': \"клас\",\n",
    " '😎': \"круто\",\n",
    " '😆': \"смешно\",\n",
    " '😜': '',\n",
    " '😁': \"улыбка\",\n",
    " '😳': \"странно\",\n",
    " '👏': \"браво\",\n",
    " '😉': '',\n",
    " '👍🏻': \"хорошо\",\n",
    " '🤭': \"забавно\",\n",
    " '😢': \"грустно\",\n",
    " '🚕':  \"такси\",\n",
    " '👌': \"хорошо\",\n",
    " '😇': \"улыбка\",\n",
    " '🤦🏽\\u200d♀️': \"глупость\",\n",
    " '😅': 'grinning face with sweat',\n",
    " '🤔': 'thinking face'}"
   ]
  },
  {
   "cell_type": "code",
   "execution_count": 97,
   "id": "f2bcca95",
   "metadata": {},
   "outputs": [],
   "source": [
    "def replace_emoji(s:str, replace_map: Dict[str, str]) -> str:\n",
    "    result = \"\"\n",
    "    emojis = set(replace_map.keys())\n",
    "    for char in s:\n",
    "        if char in emojis:\n",
    "            result += \" \" + replace_map[char] + \" \"\n",
    "        else:\n",
    "            result += char\n",
    "    result = result.replace(\"  \", \" \")\n",
    "    return result\n",
    "\n",
    "# df[\"main_text\"].apply(replace_emoji, replace_map=emijis_change).loc[12]"
   ]
  },
  {
   "cell_type": "code",
   "execution_count": 96,
   "id": "eb0902da",
   "metadata": {},
   "outputs": [],
   "source": [
    "df[\"main_text_without_emoji\"] =  df[\"main_text\"].apply(replace_emoji, replace_map=emijis_change)"
   ]
  },
  {
   "cell_type": "code",
   "execution_count": 91,
   "id": "24f877fa",
   "metadata": {},
   "outputs": [
    {
     "data": {
      "text/plain": [
       "'Тачка огонь 🚀💣. Дизайнер постарался. За 7 дней одни восхищения, с каждым днём все новые и новые. 👏👏👏Одно только раздражает, в заднюю полку поставлен сабвуфер Bose (в железо), а сверху накрыт пластиковой полкой которая капец как гремит. Зачем поставили систему босс, если слушать с такой полкой невозможно😆😆😆. Это за 2,15₽ 🤭 временно подлечил вставив между задним стеклом и полкой свернутое маленькое полотенце 😂🤣😂После мойки и протирки, при езде из щелей польётся вода. Много щелей из за декораций. Для дилетантов из коментов. 1.  Расход по пустому городу ехав по правилам 7.2л. (На 92 экто!)2. Одноразовый движок. Говорить рано, 2,5 движка абсолютно новый, как и коробка 8 ступая. 3 Движка 2.5, топливо предписано не ниже 91. Разницы с 95, пока не ощутил. 4. Подвеска, да жёстче Тойоты, но жесткость скованая, более в спорт, как то не особо замечаешь за минус.  Клиренс сойдёт, ещё не разу днищем не задел. '"
      ]
     },
     "execution_count": 91,
     "metadata": {},
     "output_type": "execute_result"
    }
   ],
   "source": [
    "df[\"main_text\"].loc[12]"
   ]
  },
  {
   "cell_type": "code",
   "execution_count": 99,
   "id": "cc7b2cef",
   "metadata": {},
   "outputs": [],
   "source": [
    "df.to_excel('data2.xlsx', index = False)"
   ]
  }
 ],
 "metadata": {
  "kernelspec": {
   "display_name": "Python 3 (ipykernel)",
   "language": "python",
   "name": "python3"
  },
  "language_info": {
   "codemirror_mode": {
    "name": "ipython",
    "version": 3
   },
   "file_extension": ".py",
   "mimetype": "text/x-python",
   "name": "python",
   "nbconvert_exporter": "python",
   "pygments_lexer": "ipython3",
   "version": "3.10.4"
  }
 },
 "nbformat": 4,
 "nbformat_minor": 5
}
